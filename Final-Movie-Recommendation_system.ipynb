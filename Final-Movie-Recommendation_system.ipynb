import pandas as pd
import numpy as np
import ast
from sklearn.feature_extraction.text import TfidfVectorizer
from sklearn.metrics.pairwise import cosine_similarity
from sklearn.decomposition import TruncatedSVD


movies = pd.read_csv("movies_metadata.csv", usecols=['id','title','overview','genres'], low_memory=False)
keywords = pd.read_csv("keywords.csv")
credits = pd.read_csv("credits.csv")


movies.info()


movies.head()


keywords.head()


credits.head()


movies = movies[movies['id'].astype(str).str.isnumeric()]
keywords = keywords[keywords['id'].astype(str).str.isnumeric()]
credits = credits[credits['id'].astype(str).str.isnumeric()]


movies['id'] = movies['id'].astype(int)
keywords['id'] = keywords['id'].astype(int)
credits['id'] = credits['id'].astype(int)
movies.head()


movies = movies.merge(keywords, on='id').merge(credits, on='id')


movies.info()


movies.head()


movies.dropna(subset=['overview'], inplace=True)


movies.shape


movies.isnull().sum()


movies['genres'] = movies['genres'].apply(lambda x: [d['name'] for d in ast.literal_eval(x)])
movies['keywords'] = movies['keywords'].apply(lambda x: [d['name'] for d in ast.literal_eval(x)])
movies['cast'] = movies['cast'].apply(lambda x: [d['name'] for d in ast.literal_eval(x)[:3]])


movies.head()


def get_director(crew):
    for d in ast.literal_eval(crew):
        if d['job'] == 'Director':
            return d['name']
    return ""


movies['crew'] = movies['crew'].apply(get_director)


movies['crew'].head()


movies.reset_index(drop=True, inplace=True)


movies['combined'] = movies.apply(lambda row: ' '.join(row['genres']) * 3 + ' ' + 
                                               ' '.join(row['keywords']) * 2 + ' ' + 
                                               ' '.join(row['cast']) + ' ' + 
                                               row['crew'] + ' ' + 
                                               row['overview'], axis=1)


movies['combined'].head()


vectorizer = TfidfVectorizer(stop_words='english', max_features=10000)
X = vectorizer.fit_transform(movies['combined'])


svd = TruncatedSVD(n_components=200)
X_reduced = svd.fit_transform(X)


similarity = cosine_similarity(X_reduced)


def recommend(title, df=movies, sim=similarity):
    if title not in df['title'].values:
        return []
    idx = df[df['title'] == title].index[0]
    input_genres = set(df.loc[idx, 'genres'])

    sim_scores = list(enumerate(sim[idx]))
    sim_scores = sorted(sim_scores, key=lambda x: x[1], reverse=True)

    filtered_scores = []
    for i, score in sim_scores[1:]:  # skip self
        if i >= len(df):
            continue
        candidate_genres = set(df.loc[i, 'genres'])
        if input_genres & candidate_genres:  # at least one shared genre
            filtered_scores.append((i, score))
        if len(filtered_scores) == 10:
            break

    recommendations = [df.iloc[i[0]].title for i in filtered_scores]
    return recommendations



movie_name =input("Enter the movie name for the recommendations")
for name in recommend(movie_name):
    print(name)



